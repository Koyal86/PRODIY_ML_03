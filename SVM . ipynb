{
  "nbformat": 4,
  "nbformat_minor": 0,
  "metadata": {
    "colab": {
      "provenance": []
    },
    "kernelspec": {
      "name": "python3",
      "display_name": "Python 3"
    },
    "language_info": {
      "name": "python"
    }
  },
  "cells": [
    {
      "cell_type": "code",
      "source": [
        "import os\n",
        "import cv2\n",
        "\n",
        "#Load the path for the kaggle data set which has fetched using the kaggle API\n",
        "path  = \"/content/drive/MyDrive/kaggle/train\"\n",
        "\n",
        "train_images = []\n",
        "train_labels = []\n",
        "\n",
        "\n",
        "# store the data in a list along with the encoded label\n",
        "for img in os.listdir(path):\n",
        "    img_path = os.path.join(path,img)\n",
        "    pet_img = cv2.imread(img_path,0)\n",
        "    pet_img = cv2.resize(pet_img,(50,50))\n",
        "    pet_img = cv2.cvtColor(pet_img, cv2.COLOR_RGB2BGR)\n",
        "    train_images.append(pet_img)\n",
        "    if \"cat\" in img:\n",
        "      train_labels.append(0)\n",
        "    else:\n",
        "      train_labels.append(1)"
      ],
      "metadata": {
        "id": "WFxAFHbWvUbQ"
      },
      "execution_count": 1,
      "outputs": []
    },
    {
      "cell_type": "code",
      "source": [
        "import numpy as np\n",
        "\n",
        "train_images = np.array(train_images)\n",
        "train_labels = np.array(train_labels)\n"
      ],
      "metadata": {
        "id": "WXDU7OqWvfM9"
      },
      "execution_count": 2,
      "outputs": []
    },
    {
      "cell_type": "code",
      "source": [
        "x_train = train_images / 255.0\n",
        "y_train = train_labels\n"
      ],
      "metadata": {
        "id": "UZUfb_YoyY9T"
      },
      "execution_count": 3,
      "outputs": []
    },
    {
      "cell_type": "code",
      "source": [
        "from keras.applications.vgg16 import VGG16\n",
        "SIZE = 50\n",
        "#Load model without the classifier/fully connected layers\n",
        "VGG_model = VGG16(weights='imagenet', include_top=False, input_shape=(SIZE, SIZE, 3))\n",
        "\n",
        "#Make loaded layers as non-trainable. This is important as we want to work with pre-trained weights\n",
        "for layer in VGG_model.layers:\n",
        "\tlayer.trainable = False\n",
        "\n",
        "VGG_model.summary()  #Trainable parameters will be 0\n",
        "\n"
      ],
      "metadata": {
        "colab": {
          "base_uri": "https://localhost:8080/"
        },
        "id": "6Rrct3EXzIAf",
        "outputId": "d9b3e3aa-280d-45be-d853-6dca122d276f"
      },
      "execution_count": 5,
      "outputs": [
        {
          "output_type": "stream",
          "name": "stdout",
          "text": [
            "Model: \"vgg16\"\n",
            "_________________________________________________________________\n",
            " Layer (type)                Output Shape              Param #   \n",
            "=================================================================\n",
            " input_1 (InputLayer)        [(None, 50, 50, 3)]       0         \n",
            "                                                                 \n",
            " block1_conv1 (Conv2D)       (None, 50, 50, 64)        1792      \n",
            "                                                                 \n",
            " block1_conv2 (Conv2D)       (None, 50, 50, 64)        36928     \n",
            "                                                                 \n",
            " block1_pool (MaxPooling2D)  (None, 25, 25, 64)        0         \n",
            "                                                                 \n",
            " block2_conv1 (Conv2D)       (None, 25, 25, 128)       73856     \n",
            "                                                                 \n",
            " block2_conv2 (Conv2D)       (None, 25, 25, 128)       147584    \n",
            "                                                                 \n",
            " block2_pool (MaxPooling2D)  (None, 12, 12, 128)       0         \n",
            "                                                                 \n",
            " block3_conv1 (Conv2D)       (None, 12, 12, 256)       295168    \n",
            "                                                                 \n",
            " block3_conv2 (Conv2D)       (None, 12, 12, 256)       590080    \n",
            "                                                                 \n",
            " block3_conv3 (Conv2D)       (None, 12, 12, 256)       590080    \n",
            "                                                                 \n",
            " block3_pool (MaxPooling2D)  (None, 6, 6, 256)         0         \n",
            "                                                                 \n",
            " block4_conv1 (Conv2D)       (None, 6, 6, 512)         1180160   \n",
            "                                                                 \n",
            " block4_conv2 (Conv2D)       (None, 6, 6, 512)         2359808   \n",
            "                                                                 \n",
            " block4_conv3 (Conv2D)       (None, 6, 6, 512)         2359808   \n",
            "                                                                 \n",
            " block4_pool (MaxPooling2D)  (None, 3, 3, 512)         0         \n",
            "                                                                 \n",
            " block5_conv1 (Conv2D)       (None, 3, 3, 512)         2359808   \n",
            "                                                                 \n",
            " block5_conv2 (Conv2D)       (None, 3, 3, 512)         2359808   \n",
            "                                                                 \n",
            " block5_conv3 (Conv2D)       (None, 3, 3, 512)         2359808   \n",
            "                                                                 \n",
            " block5_pool (MaxPooling2D)  (None, 1, 1, 512)         0         \n",
            "                                                                 \n",
            "=================================================================\n",
            "Total params: 14714688 (56.13 MB)\n",
            "Trainable params: 0 (0.00 Byte)\n",
            "Non-trainable params: 14714688 (56.13 MB)\n",
            "_________________________________________________________________\n"
          ]
        }
      ]
    },
    {
      "cell_type": "code",
      "source": [
        "import pickle\n",
        "# Extract the features of the train data using the VGG16 pretrained model\n",
        "feature_extractor=VGG_model.predict(x_train)\n",
        "# Store it for future usage\n",
        "filename = 'feature_train.feat'\n",
        "pickle.dump(feature_extractor, open(filename, 'wb'))\n",
        "features = feature_extractor.reshape(feature_extractor.shape[0], -1)"
      ],
      "metadata": {
        "colab": {
          "base_uri": "https://localhost:8080/"
        },
        "id": "BUDOQdpIzb7w",
        "outputId": "4e201629-c255-4e20-d02d-53f760d0ed25"
      },
      "execution_count": 6,
      "outputs": [
        {
          "output_type": "stream",
          "name": "stdout",
          "text": [
            "782/782 [==============================] - 750s 959ms/step\n"
          ]
        }
      ]
    },
    {
      "cell_type": "code",
      "source": [
        "#Load the Test data\n",
        "test_images = []\n",
        "for img in os.listdir(\"/content/drive/MyDrive/kaggle/test1\"):\n",
        "    img_path = os.path.join(\"/content/drive/MyDrive/kaggle/test1/\",img)\n",
        "    pet_img = cv2.imread(img_path,0)\n",
        "    pet_img = cv2.resize(pet_img,(50,50))\n",
        "    img = cv2.cvtColor(pet_img, cv2.COLOR_RGB2BGR)\n",
        "    test_images.append(img)\n",
        ""
      ],
      "metadata": {
        "id": "sLP-rr6h13Uh",
        "colab": {
          "base_uri": "https://localhost:8080/",
          "height": 245
        },
        "outputId": "a4776b98-6660-4434-d937-351dff1e1e7f"
      },
      "execution_count": 20,
      "outputs": [
        {
          "output_type": "error",
          "ename": "KeyboardInterrupt",
          "evalue": "ignored",
          "traceback": [
            "\u001b[0;31m---------------------------------------------------------------------------\u001b[0m",
            "\u001b[0;31mKeyboardInterrupt\u001b[0m                         Traceback (most recent call last)",
            "\u001b[0;32m<ipython-input-20-3aa75fe144f0>\u001b[0m in \u001b[0;36m<cell line: 2>\u001b[0;34m()\u001b[0m\n\u001b[1;32m      2\u001b[0m \u001b[0;32mfor\u001b[0m \u001b[0mimg\u001b[0m \u001b[0;32min\u001b[0m \u001b[0mos\u001b[0m\u001b[0;34m.\u001b[0m\u001b[0mlistdir\u001b[0m\u001b[0;34m(\u001b[0m\u001b[0;34m\"/content/drive/MyDrive/kaggle/test1\"\u001b[0m\u001b[0;34m)\u001b[0m\u001b[0;34m:\u001b[0m\u001b[0;34m\u001b[0m\u001b[0;34m\u001b[0m\u001b[0m\n\u001b[1;32m      3\u001b[0m     \u001b[0mimg_path\u001b[0m \u001b[0;34m=\u001b[0m \u001b[0mos\u001b[0m\u001b[0;34m.\u001b[0m\u001b[0mpath\u001b[0m\u001b[0;34m.\u001b[0m\u001b[0mjoin\u001b[0m\u001b[0;34m(\u001b[0m\u001b[0;34m\"/content/drive/MyDrive/kaggle/test1/\"\u001b[0m\u001b[0;34m,\u001b[0m\u001b[0mimg\u001b[0m\u001b[0;34m)\u001b[0m\u001b[0;34m\u001b[0m\u001b[0;34m\u001b[0m\u001b[0m\n\u001b[0;32m----> 4\u001b[0;31m     \u001b[0mpet_img\u001b[0m \u001b[0;34m=\u001b[0m \u001b[0mcv2\u001b[0m\u001b[0;34m.\u001b[0m\u001b[0mimread\u001b[0m\u001b[0;34m(\u001b[0m\u001b[0mimg_path\u001b[0m\u001b[0;34m,\u001b[0m\u001b[0;36m0\u001b[0m\u001b[0;34m)\u001b[0m\u001b[0;34m\u001b[0m\u001b[0;34m\u001b[0m\u001b[0m\n\u001b[0m\u001b[1;32m      5\u001b[0m     \u001b[0mpet_img\u001b[0m \u001b[0;34m=\u001b[0m \u001b[0mcv2\u001b[0m\u001b[0;34m.\u001b[0m\u001b[0mresize\u001b[0m\u001b[0;34m(\u001b[0m\u001b[0mpet_img\u001b[0m\u001b[0;34m,\u001b[0m\u001b[0;34m(\u001b[0m\u001b[0;36m50\u001b[0m\u001b[0;34m,\u001b[0m\u001b[0;36m50\u001b[0m\u001b[0;34m)\u001b[0m\u001b[0;34m)\u001b[0m\u001b[0;34m\u001b[0m\u001b[0;34m\u001b[0m\u001b[0m\n\u001b[1;32m      6\u001b[0m     \u001b[0mimg\u001b[0m \u001b[0;34m=\u001b[0m \u001b[0mcv2\u001b[0m\u001b[0;34m.\u001b[0m\u001b[0mcvtColor\u001b[0m\u001b[0;34m(\u001b[0m\u001b[0mpet_img\u001b[0m\u001b[0;34m,\u001b[0m \u001b[0mcv2\u001b[0m\u001b[0;34m.\u001b[0m\u001b[0mCOLOR_RGB2BGR\u001b[0m\u001b[0;34m)\u001b[0m\u001b[0;34m\u001b[0m\u001b[0;34m\u001b[0m\u001b[0m\n",
            "\u001b[0;31mKeyboardInterrupt\u001b[0m: "
          ]
        }
      ]
    },
    {
      "cell_type": "code",
      "source": [
        "test_images = np.array(test_images)"
      ],
      "metadata": {
        "id": "0NwRYAeU2m-Z"
      },
      "execution_count": 12,
      "outputs": []
    },
    {
      "cell_type": "code",
      "source": [
        "#Send test data through same feature extractor process\n",
        "X_test_feature = VGG_model.predict(test_images)\n",
        "X_test_features = X_test_feature.reshape(X_test_feature.shape[0], -1)\n",
        "\n",
        "from sklearn import svm\n",
        "\n",
        "#Create a svm Classifier\n",
        "clf = svm.SVC(C=0.01,kernel ='poly',gamma=0.001) # Linear Kernel\n",
        "\n",
        "#Train the model using thetraining features extracted by VGG16 i.e.features...and the labels i.e y_train\n",
        "clf.fit(features, y_train)\n",
        "filename = 'finalized_model.sav'\n",
        "pickle.dump(clf, open(filename, 'wb'))\n",
        "\n",
        "#Predict the response for test features\n",
        "y_pred = clf.predict(X_test_features)\n",
        "\n",
        "print(y_pred)"
      ],
      "metadata": {
        "id": "c6Pnzw1q4PUk"
      },
      "execution_count": null,
      "outputs": []
    },
    {
      "cell_type": "code",
      "source": [
        "import pandas as pd\n",
        "# Save the output file\n",
        "# Create an empty DataFrame\n",
        "df = pd.DataFrame(columns=['id', 'label'])\n",
        "\n",
        "\n",
        "for i,img in enumerate(os.listdir(\"/content/drive/MyDrive/kaggle/test1\")):\n",
        "  df.loc[i] = [img, y_pred[i]]\n",
        "\n",
        "# Save the DataFrame to a CSV file\n",
        "df.to_csv('output.csv', index=False)"
      ],
      "metadata": {
        "id": "_Im2WJG8qMnm"
      },
      "execution_count": 19,
      "outputs": []
    }
  ]
}
